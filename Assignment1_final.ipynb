{
 "cells": [
  {
   "cell_type": "markdown",
   "metadata": {},
   "source": [
    "# Foundations of Data Mining: Assignment 1\n",
    "\n",
    "Please complete all assignments in this notebook. You should submit this notebook, as well as a PDF version (See File > Download as)."
   ]
  },
  {
   "cell_type": "code",
   "execution_count": 3,
   "metadata": {
    "collapsed": false
   },
   "outputs": [],
   "source": [
    "%matplotlib inline\n",
    "\n",
    "#Student 1: Qifan Dai, 1034548\n",
    "#Student 2: Jiyang Li, 0975662\n",
    "\n",
    "from preamble import *\n",
    "plt.rcParams['savefig.dpi'] = 100\n",
    "InteractiveShell.ast_node_interactivity = \"all\""
   ]
  },
  {
   "cell_type": "markdown",
   "metadata": {},
   "source": [
    "## Handwritten digit recognition (5 points, 1+2+2)\n",
    "The [MNIST dataset](https://www.openml.org/d/554) contains 70,000 images of handwritten digits (0-9) represented by 28 by 28 pixel values. We can easily download it from OpenML and visualize one of the examples:"
   ]
  },
  {
   "cell_type": "code",
   "execution_count": 5,
   "metadata": {
    "collapsed": false
   },
   "outputs": [],
   "source": [
    "# This is a temporary read-only OpenML key. Replace with your own key later. \n",
    "oml.config.apikey = 'e8bb9b0abb1f11aa099be170f147edf7'"
   ]
  },
  {
   "cell_type": "code",
   "execution_count": 9,
   "metadata": {
    "collapsed": false
   },
   "outputs": [],
   "source": [
    "mnist_data = oml.datasets.get_dataset(554) # Download MNIST data\n",
    "X, y = mnist_data.get_data(target=mnist_data.default_target_attribute); # Get the predictors X and the labels y\n"
   ]
  },
  {
   "cell_type": "markdown",
   "metadata": {},
   "source": [
    "- Evaluate a k-Nearest Neighbor classifier with its default settings.\n",
    "    - Use the first 60,000 examples as the training set and the last 10,000 as the test set\n",
    "    - What is the predictive accuracy?\n",
    "    - Find a few misclassifications, and plot them together with the true labels (as above). Are these images really hard to classify?\n",
    "- Optimize the value for the number of neighbors $k$ (keep $k$ < 50) on a stratified subsample (e.g. 10%) of the data\n",
    "    - Use 10-fold crossvalidation and plot $k$ against the misclassification rate. Which value of $k$ should you pick?\n",
    "    - Do the same but with 100 bootstrapping repeats. Are the results different? Explain.\n",
    "- Compare kNN against the linear classification models that we have covered in the course (logistic regression and linear SVMs).\n",
    "    - First use the default hyperparameter settings.\n",
    "    - Next, optimize for the degree of regularization ($C$) and choice of penalty (L1/L2). Again, plot the accuracy while increasing the degree of regularization for different penalties. Interpret the results. \n",
    "    - Report is the optimal performance. Can you get better results than kNN?\n",
    "    \n",
    "Report all results clearly and interpret the results.  \n",
    "Note: while prototyping/bugfixing, you can speed up experiments by taking a smaller sample of the data, but report your results as indicated above."
   ]
  },
  {
   "cell_type": "code",
   "execution_count": 12,
   "metadata": {
    "collapsed": false
   },
   "outputs": [
    {
     "name": "stdout",
     "output_type": "stream",
     "text": [
      "training_accuracy: 0.981917\n",
      "test_accuracy: 0.968800\n"
     ]
    }
   ],
   "source": [
    "#Use the first 60,000 examples as the training set and the last 10,000 as the test set\n",
    "#What is the predictive accuracy?\n",
    "\n",
    "\n",
    "\n",
    "from sklearn import neighbors\n",
    "import numpy as np\n",
    "\n",
    "searchpoints=20\n",
    "#Split the data into 60000 training dataset and 10000 test dataset.\n",
    "X_train, X_test = np.split(X,[60000])\n",
    "y_train, y_test = np.split(y,[60000])\n",
    "knn = neighbors.KNeighborsClassifier()\n",
    "\n",
    "# record training and test set accuracy\n",
    "training_accuracy=knn.fit(X_train, y_train).score(X_train, y_train)\n",
    "test_accuracy=knn.fit(X_train, y_train).score(X_test, y_test)\n",
    "\n",
    "print('training_accuracy: %f' % training_accuracy)\n",
    "print('test_accuracy: %f' % test_accuracy)\n",
    "\n",
    "pred=knn.predict(X_test)"
   ]
  },
  {
   "cell_type": "code",
   "execution_count": 1,
   "metadata": {
    "collapsed": false
   },
   "outputs": [
    {
     "ename": "NameError",
     "evalue": "name 'X_train' is not defined",
     "output_type": "error",
     "traceback": [
      "\u001b[0;31m---------------------------------------------------------------------------\u001b[0m",
      "\u001b[0;31mNameError\u001b[0m                                 Traceback (most recent call last)",
      "\u001b[0;32m<ipython-input-1-9d2f5e260ddb>\u001b[0m in \u001b[0;36m<module>\u001b[0;34m()\u001b[0m\n\u001b[0;32m----> 1\u001b[0;31m \u001b[0mX_train\u001b[0m\u001b[1;33m.\u001b[0m\u001b[0mshape\u001b[0m\u001b[1;33m\u001b[0m\u001b[0m\n\u001b[0m",
      "\u001b[0;31mNameError\u001b[0m: name 'X_train' is not defined"
     ]
    }
   ],
   "source": [
    "X_train.shape"
   ]
  },
  {
   "cell_type": "code",
   "execution_count": 6,
   "metadata": {
    "collapsed": false
   },
   "outputs": [
    {
     "data": {
      "text/plain": [
       "<matplotlib.axes._subplots.AxesSubplot at 0x1de0d655748>"
      ]
     },
     "execution_count": 6,
     "metadata": {},
     "output_type": "execute_result"
    },
    {
     "data": {
      "text/plain": [
       "<matplotlib.image.AxesImage at 0x1de0d6bacf8>"
      ]
     },
     "execution_count": 6,
     "metadata": {},
     "output_type": "execute_result"
    },
    {
     "data": {
      "text/plain": [
       "<matplotlib.text.Text at 0x1de0d67b2b0>"
      ]
     },
     "execution_count": 6,
     "metadata": {},
     "output_type": "execute_result"
    },
    {
     "data": {
      "text/plain": [
       "<matplotlib.axes._subplots.AxesSubplot at 0x1de7aff14a8>"
      ]
     },
     "execution_count": 6,
     "metadata": {},
     "output_type": "execute_result"
    },
    {
     "data": {
      "text/plain": [
       "<matplotlib.image.AxesImage at 0x1de0d722b38>"
      ]
     },
     "execution_count": 6,
     "metadata": {},
     "output_type": "execute_result"
    },
    {
     "data": {
      "text/plain": [
       "<matplotlib.text.Text at 0x1de0d6f97b8>"
      ]
     },
     "execution_count": 6,
     "metadata": {},
     "output_type": "execute_result"
    },
    {
     "data": {
      "text/plain": [
       "<matplotlib.axes._subplots.AxesSubplot at 0x1de0d72f278>"
      ]
     },
     "execution_count": 6,
     "metadata": {},
     "output_type": "execute_result"
    },
    {
     "data": {
      "text/plain": [
       "<matplotlib.image.AxesImage at 0x1de0d797320>"
      ]
     },
     "execution_count": 6,
     "metadata": {},
     "output_type": "execute_result"
    },
    {
     "data": {
      "text/plain": [
       "<matplotlib.text.Text at 0x1de0d739978>"
      ]
     },
     "execution_count": 6,
     "metadata": {},
     "output_type": "execute_result"
    },
    {
     "data": {
      "text/plain": [
       "<matplotlib.axes._subplots.AxesSubplot at 0x1de0d797ac8>"
      ]
     },
     "execution_count": 6,
     "metadata": {},
     "output_type": "execute_result"
    },
    {
     "data": {
      "text/plain": [
       "<matplotlib.image.AxesImage at 0x1de0d75acf8>"
      ]
     },
     "execution_count": 6,
     "metadata": {},
     "output_type": "execute_result"
    },
    {
     "data": {
      "text/plain": [
       "<matplotlib.text.Text at 0x1de0d7c34a8>"
      ]
     },
     "execution_count": 6,
     "metadata": {},
     "output_type": "execute_result"
    },
    {
     "data": {
      "application/pdf": "[encoded data removed]",
      "image/png": "[encoded data removed]",
      "text/plain": [
       "<matplotlib.figure.Figure at 0x1de7b0c49e8>"
      ]
     },
     "metadata": {},
     "output_type": "display_data"
    }
   ],
   "source": [
    "#Find a few misclassifications, and plot them together with the true labels (as above). \n",
    "#Are these images really hard to classify?\n",
    "import matplotlib\n",
    "import matplotlib.pyplot as plt\n",
    "#We want to plot 4 misclassifiction datapoints\n",
    "afew=4\n",
    "j=1\n",
    "i=1\n",
    "#We creat subplots to store  4 misclassifiction points\n",
    "fig, axes=plt.subplots(2,2, figsize=(7,6))\n",
    "\n",
    "while (i in range(1,2000)) & (j  <= afew):\n",
    "    if pred[i]!=y_test[i]: \n",
    "        plt.subplot(2,2,j)\n",
    "        plt.imshow(X[i].reshape(28, 28), cmap=plt.cm.gray_r) # Take each misclassifiction, reshape to a 28x28 image and plot\n",
    "        plt.title('Class label:%s, Predicted label:%s' %(y_test[i],pred[i]))\n",
    "        j=j+1\n",
    "    i=i+1\n",
    "\n",
    "    \n",
    "fig.tight_layout()    \n",
    "plt.show()\n",
    "    "
   ]
  },
  {
   "cell_type": "markdown",
   "metadata": {},
   "source": [
    "We plotted 4 misclassifiction datapoint. From these pictures, we noticed that these images are not hard to classify, whereas KNNclassifier predicted incorrecty."
   ]
  },
  {
   "cell_type": "code",
   "execution_count": 7,
   "metadata": {
    "collapsed": false
   },
   "outputs": [
    {
     "data": {
      "text/plain": [
       "[<matplotlib.lines.Line2D at 0x1de0d9102e8>]"
      ]
     },
     "execution_count": 7,
     "metadata": {},
     "output_type": "execute_result"
    },
    {
     "data": {
      "text/plain": [
       "[<matplotlib.lines.Line2D at 0x1de75d45978>]"
      ]
     },
     "execution_count": 7,
     "metadata": {},
     "output_type": "execute_result"
    },
    {
     "name": "stdout",
     "output_type": "stream",
     "text": [
      "best_parameters{'k Neighbour with 10Fold': 5} \n",
      "best_bparameters{'k Neighbour with 100 bootstraping': 1} \n"
     ]
    },
    {
     "data": {
      "text/plain": [
       "<matplotlib.text.Text at 0x1de0d8c82e8>"
      ]
     },
     "execution_count": 7,
     "metadata": {},
     "output_type": "execute_result"
    },
    {
     "data": {
      "text/plain": [
       "<matplotlib.text.Text at 0x1de0da76550>"
      ]
     },
     "execution_count": 7,
     "metadata": {},
     "output_type": "execute_result"
    },
    {
     "data": {
      "application/pdf": "[encoded data removed]",
      "image/png": "[encoded data removed]",
      "text/plain": [
       "<matplotlib.figure.Figure at 0x1de7af4e4e0>"
      ]
     },
     "metadata": {},
     "output_type": "display_data"
    }
   ],
   "source": [
    "\n",
    "#Optimize the value for the number of neighbors k \n",
    "# on a stratified subsample (e.g. 10%) of the data\n",
    "\n",
    "# Use 10-fold crossvalidation and  \n",
    "# plot k against the misclassification rate.  \n",
    "#Which value of k should you pick?\n",
    "from sklearn.model_selection import KFold\n",
    "from sklearn.model_selection import cross_val_score\n",
    "from sklearn.model_selection import ShuffleSplit\n",
    "from sklearn.model_selection import train_test_split\n",
    "from sklearn.neighbors import KNeighborsClassifier\n",
    "\n",
    "# Using 10% subsample datapoints\n",
    "X_Sample, _, y_Sample, _ = train_test_split(X, y, train_size=0.01, random_state=0,stratify=y)\n",
    "\n",
    "\n",
    "bootstrap=ShuffleSplit(n_splits=100,test_size=0.66,train_size=0.34,random_state=1)\n",
    "\n",
    "\n",
    "# Build a list of the training accuracy and misclassification rates for increasing k\n",
    "\n",
    "misclass_rate=[]\n",
    "misclass_brate=[]\n",
    "k = range(1, 20)\n",
    "best_score = 0\n",
    "best_bscore=0 \n",
    "\n",
    "for n_neighbors in k:\n",
    "    # build the model, using kfold CV to find best k\n",
    "    clf = KNeighborsClassifier(n_neighbors=n_neighbors).fit(X_Sample, y_Sample)\n",
    "    \n",
    "    \n",
    "    # record training and test set misclassfiction rate\n",
    "    this_scores = cross_val_score(clf, X_Sample, y_Sample, cv=10,n_jobs=-1)\n",
    "    mscores=np.mean(this_scores)\n",
    "    misclass_rate.append(1-mscores)\n",
    "    \n",
    "    \n",
    "    # if we got a better score, store the score and parameters\n",
    "    if mscores > best_score:\n",
    "            best_score = mscores\n",
    "            best_parameters = {'k Neighbour with 10Fold': n_neighbors}\n",
    "            \n",
    "            \n",
    "    # record training and test set misclassfiction rate using 100bootstraping \n",
    "    this_bscores = cross_val_score(clf, X_Sample, y_Sample, cv=bootstrap,n_jobs=-1)\n",
    "    mbscores=np.mean(this_bscores)\n",
    "    misclass_brate.append(1-mbscores)\n",
    "    \n",
    "    \n",
    "    # if we got a better score, store the score and parameters\n",
    "    if mbscores > best_bscore:\n",
    "            best_bscore = mbscores\n",
    "            best_bparameters = {'k Neighbour with 100 bootstraping': n_neighbors}\n",
    "    \n",
    "    \n",
    "plt.plot(k,  misclass_rate,'bs', label=\" misclass_rate with 10fold\")\n",
    "plt.plot(k,  misclass_brate,'g^', label=\" misclass_rate with 100 bootstraping\")\n",
    "print('best_parameters%s ' %(best_parameters))\n",
    "print('best_bparameters%s ' %(best_bparameters))\n",
    "plt.ylabel(\" misclass_rate\")\n",
    "plt.xlabel(\"n_neighbors\")\n",
    "_ = plt.legend()\n",
    "\n",
    "\n",
    "\n",
    "\n",
    "\n",
    "\n"
   ]
  },
  {
   "cell_type": "markdown",
   "metadata": {},
   "source": [
    "We found that the best number of neighbour for 10-fold crossvalidation is 5, while that for 100 bootstrapping CV is 1. We think the difference because of that CV uses sampling with  and without replacement. Bootstraps include only 66% data points on average,however sampling without replacement include almost all data points. It is expectable that the results would be different. Indeed we noticed that, with same number of neighbours, the misclassfiction rate with 10 fold is strictly lower than 100 bootstraping."
   ]
  },
  {
   "cell_type": "code",
   "execution_count": 8,
   "metadata": {
    "collapsed": false
   },
   "outputs": [
    {
     "name": "stdout",
     "output_type": "stream",
     "text": [
      "KNN score: 0.717143\n",
      "LogisticRegression score: 0.828571\n",
      "LInearSVM score: 0.825714\n"
     ]
    }
   ],
   "source": [
    "from sklearn.linear_model import LogisticRegression\n",
    "from sklearn.svm import LinearSVC\n",
    "from sklearn.svm import SVC\n",
    "\n",
    "X_Sample, _, y_Sample, _ = train_test_split(X, y, train_size=0.01, random_state=0)\n",
    "\n",
    "X_train, X_test, y_train, y_test = train_test_split(X_Sample, y_Sample, train_size=0.5,stratify=y_Sample, random_state=0)\n",
    "\n",
    "\n",
    "\n",
    "            \n",
    "            \n",
    "            \n",
    "\n",
    "\n",
    "from sklearn import neighbors, linear_model\n",
    "from sklearn.linear_model import LogisticRegression\n",
    "from sklearn.svm import LinearSVC\n",
    "from sklearn.svm import SVC\n",
    "\n",
    "# build the model, using kfold CV to find best k\n",
    "clf = KNeighborsClassifier(n_neighbors=n_neighbors).fit(X_train, y_train)\n",
    "logreg = LogisticRegression().fit(X_train, y_train)\n",
    "linear_svm=LinearSVC().fit(X_train,y_train)\n",
    "   \n",
    "print('KNN score: %f' % clf.fit(X_train, y_train).score(X_test, y_test))\n",
    "print('LogisticRegression score: %f' %logreg.fit(X_train, y_train).score(X_test, y_test))   \n",
    "print('LInearSVM score: %f' %linear_svm.fit(X_train, y_train).score(X_test, y_test))\n",
    "            \n",
    "            \n",
    "            "
   ]
  },
  {
   "cell_type": "code",
   "execution_count": 9,
   "metadata": {
    "collapsed": false
   },
   "outputs": [
    {
     "name": "stdout",
     "output_type": "stream",
     "text": [
      "Test accuracy of l1 logreg with C=0.001: 0.76\n",
      "Test accuracy of l2 logreg with C=0.001: 0.83\n",
      "Test accuracy of l1 logreg with C=0.100: 0.79\n",
      "Test accuracy of l2 logreg with C=0.100: 0.83\n",
      "Test accuracy of l1 logreg with C=1.000: 0.80\n",
      "Test accuracy of l2 logreg with C=1.000: 0.83\n",
      "Test accuracy of l1 logreg with C=10.000: 0.83\n",
      "Test accuracy of l2 logreg with C=10.000: 0.83\n",
      "Test accuracy of l1 logreg with C=100.000: 0.82\n",
      "Test accuracy of l2 logreg with C=100.000: 0.83\n",
      "Best score with penalty L1: 0.83\n",
      "Best parameters with penalty L1: {'C': 10}\n",
      "Best score with penalty L2: 0.83\n",
      "Best parameters with penalty L2: {'C': 0.001}\n"
     ]
    },
    {
     "data": {
      "text/plain": [
       "[<matplotlib.lines.Line2D at 0x1de0d9e3080>]"
      ]
     },
     "execution_count": 9,
     "metadata": {},
     "output_type": "execute_result"
    },
    {
     "data": {
      "text/plain": [
       "[<matplotlib.lines.Line2D at 0x1de0da97e10>]"
      ]
     },
     "execution_count": 9,
     "metadata": {},
     "output_type": "execute_result"
    },
    {
     "data": {
      "text/plain": [
       "<matplotlib.text.Text at 0x1de0d98d7f0>"
      ]
     },
     "execution_count": 9,
     "metadata": {},
     "output_type": "execute_result"
    },
    {
     "data": {
      "text/plain": [
       "<matplotlib.text.Text at 0x1de0d8d0dd8>"
      ]
     },
     "execution_count": 9,
     "metadata": {},
     "output_type": "execute_result"
    },
    {
     "data": {
      "application/pdf": "[encoded data removed]",
      "image/png": "[encoded data removed]",
      "text/plain": [
       "<matplotlib.figure.Figure at 0x1de0d8833c8>"
      ]
     },
     "metadata": {},
     "output_type": "display_data"
    }
   ],
   "source": [
    "accuracy1 = []\n",
    "accuracy2 = []\n",
    "#Scale hyperparameter C\n",
    "CC = [0.001,0.1, 1,10, 100]\n",
    "best_score = 0\n",
    "best_score1=0\n",
    "for c in CC :\n",
    "    logreg1 = LogisticRegression(C=c, penalty=\"l1\").fit(X_train, y_train)\n",
    "    score1 = logreg1.score(X_test, y_test)\n",
    "    print(\"Test accuracy of l1 logreg with C={:.3f}: {:.2f}\".format(\n",
    "          c, score1))\n",
    "    accuracy1.append(score1)\n",
    "    if score1 > best_score:\n",
    "            best_score = score1\n",
    "            best_parameters = {'C': c}\n",
    "\n",
    "    logreg2 = LogisticRegression(C=c, penalty=\"l2\").fit(X_train, y_train)\n",
    "    score2 = logreg2.score(X_test, y_test)\n",
    "    print(\"Test accuracy of l2 logreg with C={:.3f}: {:.2f}\".format(\n",
    "          c, score2))\n",
    "    accuracy2.append(score2)\n",
    "    if score2 > best_score1:\n",
    "            best_score1 = score2\n",
    "            best_parameters1 = {'C': c}\n",
    "            \n",
    "            \n",
    "print(\"Best score with penalty L1: {:.2f}\".format(best_score))\n",
    "print(\"Best parameters with penalty L1: {}\".format(best_parameters))\n",
    "print(\"Best score with penalty L2: {:.2f}\".format(best_score1))\n",
    "print(\"Best parameters with penalty L2: {}\".format(best_parameters1))\n",
    "plt.plot(accuracy1, 'bs', label=\"Accuracy of l1\" )\n",
    "plt.plot(accuracy2, 'g^', label=\"Accuracy of l2\" )\n",
    "plt.ylabel(\" Accuracy\")\n",
    "plt.xlabel(\" C\")\n",
    "_ = plt.legend()"
   ]
  },
  {
   "cell_type": "code",
   "execution_count": 10,
   "metadata": {
    "collapsed": false
   },
   "outputs": [
    {
     "name": "stderr",
     "output_type": "stream",
     "text": [
      "C:\\Users\\s167817\\AppData\\Local\\Continuum\\Anaconda3\\lib\\site-packages\\sklearn\\svm\\classes.py:199: DeprecationWarning: loss='l2' has been deprecated in favor of loss='squared_hinge' as of 0.16. Backward compatibility for the loss='l2' will be removed in 1.0\n",
      "  DeprecationWarning)\n"
     ]
    },
    {
     "name": "stdout",
     "output_type": "stream",
     "text": [
      "Test accuracy of l1 logreg with C=100.000: 0.79\n",
      "Test accuracy of l2 logreg with C=100.000: 0.83\n"
     ]
    },
    {
     "name": "stderr",
     "output_type": "stream",
     "text": [
      "C:\\Users\\s167817\\AppData\\Local\\Continuum\\Anaconda3\\lib\\site-packages\\sklearn\\svm\\classes.py:199: DeprecationWarning: loss='l2' has been deprecated in favor of loss='squared_hinge' as of 0.16. Backward compatibility for the loss='l2' will be removed in 1.0\n",
      "  DeprecationWarning)\n"
     ]
    },
    {
     "name": "stdout",
     "output_type": "stream",
     "text": [
      "Test accuracy of l1 logreg with C=100.000: 0.81\n",
      "Test accuracy of l2 logreg with C=100.000: 0.83\n"
     ]
    },
    {
     "name": "stderr",
     "output_type": "stream",
     "text": [
      "C:\\Users\\s167817\\AppData\\Local\\Continuum\\Anaconda3\\lib\\site-packages\\sklearn\\svm\\classes.py:199: DeprecationWarning: loss='l2' has been deprecated in favor of loss='squared_hinge' as of 0.16. Backward compatibility for the loss='l2' will be removed in 1.0\n",
      "  DeprecationWarning)\n"
     ]
    },
    {
     "name": "stdout",
     "output_type": "stream",
     "text": [
      "Test accuracy of l1 logreg with C=100.000: 0.81\n",
      "Test accuracy of l2 logreg with C=100.000: 0.83\n"
     ]
    },
    {
     "name": "stderr",
     "output_type": "stream",
     "text": [
      "C:\\Users\\s167817\\AppData\\Local\\Continuum\\Anaconda3\\lib\\site-packages\\sklearn\\svm\\classes.py:199: DeprecationWarning: loss='l2' has been deprecated in favor of loss='squared_hinge' as of 0.16. Backward compatibility for the loss='l2' will be removed in 1.0\n",
      "  DeprecationWarning)\n"
     ]
    },
    {
     "name": "stdout",
     "output_type": "stream",
     "text": [
      "Test accuracy of l1 logreg with C=100.000: 0.81\n",
      "Test accuracy of l2 logreg with C=100.000: 0.83\n"
     ]
    },
    {
     "name": "stderr",
     "output_type": "stream",
     "text": [
      "C:\\Users\\s167817\\AppData\\Local\\Continuum\\Anaconda3\\lib\\site-packages\\sklearn\\svm\\classes.py:199: DeprecationWarning: loss='l2' has been deprecated in favor of loss='squared_hinge' as of 0.16. Backward compatibility for the loss='l2' will be removed in 1.0\n",
      "  DeprecationWarning)\n"
     ]
    },
    {
     "name": "stdout",
     "output_type": "stream",
     "text": [
      "Test accuracy of l1 logreg with C=100.000: 0.79\n",
      "Test accuracy of l2 logreg with C=100.000: 0.83\n",
      "Best score using SVC with penalty L1: 0.81\n",
      "Best parameters using SVC with penalty L1: {'C': 100}\n",
      "Best score  using SVC with penalty L2: 0.83\n",
      "Best parameters using SVC with penalty L2: {'C': 100}\n"
     ]
    },
    {
     "data": {
      "text/plain": [
       "[<matplotlib.lines.Line2D at 0x1de0def20b8>]"
      ]
     },
     "execution_count": 10,
     "metadata": {},
     "output_type": "execute_result"
    },
    {
     "data": {
      "text/plain": [
       "[<matplotlib.lines.Line2D at 0x1de0da1de48>]"
      ]
     },
     "execution_count": 10,
     "metadata": {},
     "output_type": "execute_result"
    },
    {
     "data": {
      "text/plain": [
       "<matplotlib.text.Text at 0x1de0d973908>"
      ]
     },
     "execution_count": 10,
     "metadata": {},
     "output_type": "execute_result"
    },
    {
     "data": {
      "text/plain": [
       "<matplotlib.text.Text at 0x1de0de8a3c8>"
      ]
     },
     "execution_count": 10,
     "metadata": {},
     "output_type": "execute_result"
    },
    {
     "data": {
      "application/pdf": "[encoded data removed]",
      "image/png": "[encoded data removed]",
      "text/plain": [
       "<matplotlib.figure.Figure at 0x1de0d962cf8>"
      ]
     },
     "metadata": {},
     "output_type": "display_data"
    }
   ],
   "source": [
    "from sklearn.svm import LinearSVC\n",
    "from sklearn.svm import l1_min_c\n",
    "\n",
    "accuracy1_svc = []\n",
    "accuracy2_svc = []\n",
    "cs = l1_min_c(X_train, y_train)\n",
    "best_score = 0\n",
    "best_score1=0\n",
    "\n",
    "for C in [0.001,0.1, 1,10, 100]: \n",
    "    svc1 = LinearSVC(C=C, loss='l2', penalty='l1', dual=False).fit(X_train, y_train)\n",
    "    score1_svc = svc1.score(X_test, y_test)\n",
    "    print(\"Test accuracy of l1 logreg with C={:.3f}: {:.2f}\".format(\n",
    "          c, score1_svc))\n",
    "    accuracy1_svc.append(score1_svc)\n",
    "    if score1_svc > best_score:\n",
    "            best_score = score1_svc\n",
    "            best_parameters = {'C': c}\n",
    "\n",
    "    svc2 = LinearSVC(C=C, penalty=\"l2\").fit(X_train, y_train)\n",
    "    score2_svc = svc2.score(X_test, y_test)\n",
    "    print(\"Test accuracy of l2 logreg with C={:.3f}: {:.2f}\".format(\n",
    "          c, score2_svc))\n",
    "    accuracy2_svc.append(score2_svc)\n",
    "    if score2_svc > best_score1:\n",
    "            best_score1 = score2_svc\n",
    "            best_parameters1 = {'C': c}\n",
    "            \n",
    "print(\"Best score using SVC with penalty L1: {:.2f}\".format(best_score))\n",
    "print(\"Best parameters using SVC with penalty L1: {}\".format(best_parameters))\n",
    "print(\"Best score  using SVC with penalty L2: {:.2f}\".format(best_score1))\n",
    "print(\"Best parameters using SVC with penalty L2: {}\".format(best_parameters1))\n",
    "\n",
    "plt.plot(accuracy1_svc, 'bs', label=\"Accuracy of l1\" )\n",
    "plt.plot(accuracy2_svc, 'g^', label=\"Accuracy of l2\" )\n",
    "plt.ylabel(\" Accuracy\")\n",
    "plt.xlabel(\" C\")\n",
    "_ = plt.legend()\n"
   ]
  },
  {
   "cell_type": "markdown",
   "metadata": {},
   "source": [
    "Logistic Regression and SVM are more accuracy than the KNN. \\\\\n",
    "\n",
    "\n",
    "When using logesticRegression:\\\\\n",
    "The best C with penalty L1 is 10, whereas the best C with penalty L2 is 0.001. We noticed that the LogisticRegression with L2 penalty  is much more accurate that with L1 penalty. This result may due to the fact that L1 loss functions has sparse representations, while L2 loss functions has non-zero weights for datapoints.\n",
    "\n",
    "When using SVM:\\\\\n",
    "Different choice of penalty gave same best parameter C=100. We think this result may not perfect since L1 loss function is different from L2 loss function, however due to the short of time, we will consider this problem later."
   ]
  },
  {
   "cell_type": "markdown",
   "metadata": {},
   "source": [
    "## Model selection (4 points (2+2))\n",
    "Study how RandomForest hyperparameters interact on the Ionosphere dataset (OpenML ID 59).\n",
    "\n",
    "- Optimize a RandomForest, varying both $n\\_estimators$ and $max\\_features$ at the same time. Use a nested cross-validation and a grid search (or random search) over the possible values, and measure the AUC. Explore how fine-grained this grid/random search can be, given your computational resources. What is the optimal AUC performance you find?\n",
    "- Again, vary both hyperparameters, but this time use a grid search and visualize the results as a plot (heatmap) $n\\_estimators \\times max\\_features \\rightarrow AUC$ with AUC visualized as the color of the data point. Try to make the grid as fine as possible. Interpret the results. Can you explain your observations? What did you learn about tuning RandomForests?\n",
    "\n",
    "Hint: Running this experiment can take a while, so start early and use a feasible grid/random search. Start with a coarse grid or few random search iterations.\n",
    "Hint: Use a log scale (1,2,4,8,16,...) for $n\\_estimators$. Vary $max\\_features$ linearly between 1 and the total number of features. Note that, if you give $max\\_features$ a float value, it will use it as [the percentage of the total number of features](http://scikit-learn.org/stable/modules/generated/sklearn.ensemble.RandomForestClassifier.html).\n"
   ]
  },
  {
   "cell_type": "code",
   "execution_count": 2,
   "metadata": {
    "collapsed": false
   },
   "outputs": [
    {
     "ename": "NameError",
     "evalue": "name 'oml' is not defined",
     "output_type": "error",
     "traceback": [
      "\u001b[0;31m---------------------------------------------------------------------------\u001b[0m",
      "\u001b[0;31mNameError\u001b[0m                                 Traceback (most recent call last)",
      "\u001b[0;32m<ipython-input-2-b96c1e893aa6>\u001b[0m in \u001b[0;36m<module>\u001b[0;34m()\u001b[0m\n\u001b[0;32m----> 1\u001b[0;31m \u001b[0mionosphere\u001b[0m \u001b[1;33m=\u001b[0m \u001b[0moml\u001b[0m\u001b[1;33m.\u001b[0m\u001b[0mdatasets\u001b[0m\u001b[1;33m.\u001b[0m\u001b[0mget_dataset\u001b[0m\u001b[1;33m(\u001b[0m\u001b[1;36m59\u001b[0m\u001b[1;33m)\u001b[0m \u001b[1;31m# Download Ionosphere data\u001b[0m\u001b[1;33m\u001b[0m\u001b[0m\n\u001b[0m\u001b[1;32m      2\u001b[0m \u001b[0mX\u001b[0m\u001b[1;33m,\u001b[0m \u001b[0my\u001b[0m \u001b[1;33m=\u001b[0m \u001b[0mionosphere\u001b[0m\u001b[1;33m.\u001b[0m\u001b[0mget_data\u001b[0m\u001b[1;33m(\u001b[0m\u001b[0mtarget\u001b[0m\u001b[1;33m=\u001b[0m\u001b[0mionosphere\u001b[0m\u001b[1;33m.\u001b[0m\u001b[0mdefault_target_attribute\u001b[0m\u001b[1;33m)\u001b[0m\u001b[1;33m;\u001b[0m\u001b[1;33m\u001b[0m\u001b[0m\n\u001b[1;32m      3\u001b[0m \u001b[1;31m# Get the predictors X and the labels y\u001b[0m\u001b[1;33m\u001b[0m\u001b[1;33m\u001b[0m\u001b[0m\n",
      "\u001b[0;31mNameError\u001b[0m: name 'oml' is not defined"
     ]
    }
   ],
   "source": [
    "ionosphere = oml.datasets.get_dataset(59) # Download Ionosphere data\n",
    "X, y = ionosphere.get_data(target=ionosphere.default_target_attribute);\n",
    "# Get the predictors X and the labels y"
   ]
  },
  {
   "cell_type": "code",
   "execution_count": 12,
   "metadata": {
    "collapsed": false
   },
   "outputs": [
    {
     "data": {
      "text/plain": [
       "GridSearchCV(cv=5, error_score='raise',\n",
       "       estimator=RandomForestClassifier(bootstrap=True, class_weight=None, criterion='gini',\n",
       "            max_depth=None, max_features='auto', max_leaf_nodes=None,\n",
       "            min_impurity_split=1e-07, min_samples_leaf=1,\n",
       "            min_samples_split=2, min_weight_fraction_leaf=0.0,\n",
       "            n_estimators=10, n_jobs=1, oob_score=False, random_state=None,\n",
       "            verbose=0, warm_start=False),\n",
       "       fit_params={}, iid=True, n_jobs=1,\n",
       "       param_grid={'n_estimators': array([ 1,  2,  4,  8, 16, 32]), 'max_features': [1, 5, 10, 15, 20, 25]},\n",
       "       pre_dispatch='2*n_jobs', refit=True, return_train_score=True,\n",
       "       scoring=None, verbose=0)"
      ]
     },
     "execution_count": 12,
     "metadata": {},
     "output_type": "execute_result"
    },
    {
     "name": "stdout",
     "output_type": "stream",
     "text": [
      "Accuracy on nested_scores: [ 0.93   0.929  0.914  0.986  0.957]\n",
      "Mean Accuracy on nested_scores: [0.94305835010060357]\n",
      "Best parameters: {'max_features': 1, 'n_estimators': 32}\n",
      "AUC : 0.998\n"
     ]
    }
   ],
   "source": [
    "from sklearn.model_selection import RandomizedSearchCV\n",
    "from sklearn.model_selection import train_test_split\n",
    "from sklearn.metrics import roc_auc_score\n",
    "from sklearn.model_selection import cross_val_score\n",
    "from sklearn.ensemble import RandomForestClassifier\n",
    "from sklearn.model_selection import GridSearchCV\n",
    "import random\n",
    "\n",
    "#Scale n_estimators and max_features\n",
    "n_estimators=np.logspace(0,5,num=6,base=2)\n",
    "n_estimators=np.int_(n_estimators)\n",
    "(_,n_features)=X.shape\n",
    "\n",
    "\n",
    "\n",
    "X_train, X_test, y_train, y_test = train_test_split(X, y, random_state=0)\n",
    "\n",
    "\n",
    "max_features=range(1,n_features)\n",
    "#max_features=max_features[:len(n_estimators)]\n",
    "max_features = [1,5,10,15,20,25]\n",
    "scores=[]   \n",
    "scores1=[]\n",
    "    \n",
    "\n",
    "    \n",
    "#Nested-CS + Random Search\n",
    "param_grid = {'n_estimators': np.array(n_estimators),  'max_features': max_features}\n",
    "#random_search = RandomizedSearchCV(RandomForestClassifier(), param_distributions=param_grid, n_iter=5,cv=5)\n",
    "#random_search.fit(X_train, y_train)\n",
    "\n",
    "#Grid Search\n",
    "grid_search = GridSearchCV(RandomForestClassifier(),param_grid,cv=5)\n",
    "grid_search.fit(X_train, y_train)\n",
    "\n",
    "nested_scores1 = cross_val_score(grid_search,X,y, cv=5,n_jobs=-1)\n",
    "scores1.append(np.mean(nested_scores1))\n",
    "\n",
    "\n",
    "# AUC Score for Random Forest\n",
    "\n",
    "gd_auc = roc_auc_score(y_test, grid_search.predict_proba(X_test)[:, 1])\n",
    "\n",
    "\n",
    "\n",
    "\n",
    "print(\"Accuracy on nested_scores: {}\".format(nested_scores1))\n",
    "print(\"Mean Accuracy on nested_scores: {}\".format(scores1))\n",
    "print(\"Best parameters: {}\".format(grid_search.best_params_))\n",
    "print(\"AUC : {:.3f}\".format(gd_auc))\n",
    "\n",
    "\n"
   ]
  },
  {
   "cell_type": "code",
   "execution_count": 13,
   "metadata": {
    "collapsed": false
   },
   "outputs": [
    {
     "data": {
      "application/pdf": "[encoded data removed]",
      "image/png": "[encoded data removed]",
      "text/plain": [
       "<matplotlib.figure.Figure at 0x1de0d84c5c0>"
      ]
     },
     "metadata": {},
     "output_type": "display_data"
    }
   ],
   "source": [
    "import pandas as pd\n",
    "# convert to Dataframe\n",
    "results = pd.DataFrame(grid_search.cv_results_)\n",
    "\n",
    "#make same dimensions\n",
    "n_estimators=np.array(n_estimators)\n",
    "#max_features=range(1,n_features)\n",
    "\n",
    "\n",
    "scores = np.array(results.mean_test_score).reshape(len(n_estimators),len(max_features))\n",
    "# plot the mean cross-validation scores\n",
    "mglearn.tools.heatmap(scores, xlabel='n_estimators', xticklabels=param_grid['n_estimators'],ylabel='max_features',\n",
    "                      yticklabels=param_grid['max_features'], cmap=\"viridis\");\n",
    "\n"
   ]
  },
  {
   "cell_type": "markdown",
   "metadata": {},
   "source": [
    "We found the optimal AUC performance is  0.998 using a nested CV and a grid search.\n",
    "\n",
    "\n",
    "From the heat map, we see that generally, for a fixed max_features, test accuracy increases if the number of trees increases. If the number of trees is fixed, we notice that the prediction accuacy are almost same when n_estimators=[8,16,32]. And no obvious trend has been found when n_esitimators=[1 2 4]. Also the best parameter has been found as max_features=1 and n_estimators=32 and the minimum score happens at point(1,1). Therefore we make a guess that the best model that we could find if this model has a large number of trees but using a few features. "
   ]
  },
  {
   "cell_type": "markdown",
   "metadata": {},
   "source": [
    "## Decision tree heuristics (1 point)\n",
    "Consider the toy training set created below. It predicts whether your date agrees to go out with you depending on the weather.\n",
    "\n",
    "Learn a decision tree:\n",
    "\n",
    "- Implement functions to calculate entropy and information gain\n",
    "- What is the class entropy for the entire dataset? What is the information gain when you split the data using the *Water* feature?\n",
    "- Implement a basic decision tree:\n",
    "    - Select a feature to split on according to its information gain. If multiple features are equally good, select the leftmost one.\n",
    "    - Split the data and repeat until the tree is complete.\n",
    "    - Print out the results (nodes and splits).\n",
    "- Now train a scikit-learn decision tree on the same data. Do you get the same result? Explain."
   ]
  },
  {
   "cell_type": "code",
   "execution_count": 14,
   "metadata": {
    "collapsed": false
   },
   "outputs": [],
   "source": [
    "df = pd.DataFrame({\"Sky\":['sunny','sunny','rainy','sunny','sunny'],\n",
    "                   \"AirTemp\":['warm','warm','warm','cold','warm'],\n",
    "                   \"Humidity\":['normal','high','high','high','normal'],\n",
    "                   \"Wind\":['strong','strong','strong','strong','weak'],\n",
    "                   \"Water\":['warm','warm','cool','warm','warm'],\n",
    "                   \"Forecast\":['same','same','change','change','same'],\n",
    "                   \"Date?\":['yes','yes','no','yes','no']\n",
    "                   });\n",
    "\n",
    "df = df[['Sky', 'AirTemp', 'Humidity', 'Wind', 'Water', 'Forecast', 'Date?']] # Fix column ordering\n",
    "\n"
   ]
  },
  {
   "cell_type": "code",
   "execution_count": 15,
   "metadata": {
    "collapsed": false
   },
   "outputs": [],
   "source": [
    "# Complete these functions first\n",
    "def entropy(pos, neg):\n",
    "    if (pos !=0) & (neg !=0):\n",
    "        k=pos+neg\n",
    "        return -(pos/k)*np.log2(pos/ k)-(neg/k)*np.log2(neg/k)\n",
    "    else:\n",
    "        return 0\n",
    "    \n",
    "def info_gain(pos1,neg1,pos2,neg2):\n",
    "    k=pos+neg\n",
    "    m=pos1+neg1+pos2+neg2\n",
    "    sub_m1=(pos1+neg1)/k\n",
    "    sub_m2=(pos2+neg2)/k\n",
    "    \n",
    "    entropy_1=entropy(pos1,neg1)\n",
    "    entropy_2=entropy(pos2,neg2)\n",
    "    \n",
    "    return  entropy(pos,neg)-(sub_m1*entropy_1+sub_m2*entropy_2)\n",
    "\n"
   ]
  },
  {
   "cell_type": "code",
   "execution_count": 16,
   "metadata": {
    "collapsed": false
   },
   "outputs": [
    {
     "name": "stdout",
     "output_type": "stream",
     "text": [
      "entropy of all data: 0.9709505944546686\n",
      "info gain w.r.t Water of all data: 0.3219280948873623\n"
     ]
    }
   ],
   "source": [
    "\n",
    "\n",
    "#Counting negtive results of all data\n",
    "neg=0\n",
    "for object in df['Date?']:\n",
    "    if object !='yes':\n",
    "           neg +=1\n",
    "                        \n",
    "# Calculate positive results            \n",
    "pos=df.shape[0]-neg\n",
    "\n",
    "\n",
    "\n",
    "\n",
    "#Construct two sub-dataframe\n",
    "subdf_water1=pd.DataFrame(index=df.index,columns=df.columns)\n",
    "subdf_water2=pd.DataFrame(index=df.index,columns=df.columns)\n",
    "\n",
    "\n",
    "#Split the dataframe w.r.t column Water\n",
    "for i in range(0,df.shape[0]) :\n",
    "        if df.iloc[i,4] =='warm':\n",
    "            subdf_water1.loc[i,:]=df.loc[i,:]\n",
    "        else:\n",
    "             subdf_water2.loc[i,:]=df.loc[i,:]\n",
    "        i=i+1\n",
    "   \n",
    "\n",
    "\n",
    "\n",
    " #rearrange datatfram\n",
    "subdf_water1=subdf_water1[subdf_water1.Water =='warm']\n",
    "subdf_water2=subdf_water2[subdf_water2.Water =='cool']\n",
    "\n",
    "\n",
    "#Counting negtive results of warm Water\n",
    "neg1=0\n",
    "for object in subdf_water1['Date?']:\n",
    "    if object !='yes':\n",
    "           neg1 +=1\n",
    "            \n",
    "            \n",
    "# Calculate positive results  for warm Watere           \n",
    "pos1=subdf_water1.shape[0]-neg1\n",
    "\n",
    "\n",
    "#Counting negtive results of cool Water\n",
    "neg2=0\n",
    "for object in subdf_water2['Date?']:\n",
    "    if object !='yes':\n",
    "           neg2 +=1\n",
    "            \n",
    "# Calculate positive results  for cool water        \n",
    "pos2=subdf_water2.shape[0]-neg2\n",
    "\n",
    "print(\"entropy of all data: {}\".format(entropy(pos,neg)))\n",
    "print(\"info gain w.r.t Water of all data: {}\".format(info_gain(pos1,neg1,pos2,neg2)))\n"
   ]
  },
  {
   "cell_type": "markdown",
   "metadata": {},
   "source": [
    "Hence the entropy of all data is 0.97 and the info gain w.r.t water is 0.32."
   ]
  },
  {
   "cell_type": "code",
   "execution_count": 17,
   "metadata": {
    "collapsed": false
   },
   "outputs": [
    {
     "data": {
      "text/plain": [
       "DecisionTreeClassifier(class_weight=None, criterion='entropy', max_depth=None,\n",
       "            max_features=None, max_leaf_nodes=None,\n",
       "            min_impurity_split=1e-07, min_samples_leaf=1,\n",
       "            min_samples_split=2, min_weight_fraction_leaf=0.0,\n",
       "            presort=False, random_state=None, splitter='best')"
      ]
     },
     "execution_count": 17,
     "metadata": {},
     "output_type": "execute_result"
    },
    {
     "data": {
      "image/svg+xml": [
       "<?xml version=\"1.0\" encoding=\"UTF-8\" standalone=\"no\"?>\r\n",
       "<!DOCTYPE svg PUBLIC \"-//W3C//DTD SVG 1.1//EN\"\r\n",
       " \"http://www.w3.org/Graphics/SVG/1.1/DTD/svg11.dtd\">\r\n",
       "<!-- Generated by graphviz version 2.38.0 (20140413.2041)\r\n",
       " -->\r\n",
       "<!-- Title: Tree Pages: 1 -->\r\n",
       "<svg width=\"262pt\" height=\"269pt\"\r\n",
       " viewBox=\"0.00 0.00 262.00 269.00\" xmlns=\"http://www.w3.org/2000/svg\" xmlns:xlink=\"http://www.w3.org/1999/xlink\">\r\n",
       "<g id=\"graph0\" class=\"graph\" transform=\"scale(1 1) rotate(0) translate(4 265)\">\r\n",
       "<title>Tree</title>\r\n",
       "<polygon fill=\"white\" stroke=\"none\" points=\"-4,4 -4,-265 258,-265 258,4 -4,4\"/>\r\n",
       "<!-- 0 -->\r\n",
       "<g id=\"node1\" class=\"node\"><title>0</title>\r\n",
       "<polygon fill=\"#399de5\" fill-opacity=\"0.333333\" stroke=\"black\" points=\"199,-261 108,-261 108,-193 199,-193 199,-261\"/>\r\n",
       "<text text-anchor=\"middle\" x=\"153.5\" y=\"-245.8\" font-family=\"Times New Roman,serif\" font-size=\"14.00\">Sky &lt;= 0.5</text>\r\n",
       "<text text-anchor=\"middle\" x=\"153.5\" y=\"-230.8\" font-family=\"Times New Roman,serif\" font-size=\"14.00\">samples = 5</text>\r\n",
       "<text text-anchor=\"middle\" x=\"153.5\" y=\"-215.8\" font-family=\"Times New Roman,serif\" font-size=\"14.00\">value = [2, 3]</text>\r\n",
       "<text text-anchor=\"middle\" x=\"153.5\" y=\"-200.8\" font-family=\"Times New Roman,serif\" font-size=\"14.00\">class = yes</text>\r\n",
       "</g>\r\n",
       "<!-- 1 -->\r\n",
       "<g id=\"node2\" class=\"node\"><title>1</title>\r\n",
       "<polygon fill=\"#399de5\" fill-opacity=\"0.666667\" stroke=\"black\" points=\"145,-157 54,-157 54,-89 145,-89 145,-157\"/>\r\n",
       "<text text-anchor=\"middle\" x=\"99.5\" y=\"-141.8\" font-family=\"Times New Roman,serif\" font-size=\"14.00\">Wind &lt;= 0.5</text>\r\n",
       "<text text-anchor=\"middle\" x=\"99.5\" y=\"-126.8\" font-family=\"Times New Roman,serif\" font-size=\"14.00\">samples = 4</text>\r\n",
       "<text text-anchor=\"middle\" x=\"99.5\" y=\"-111.8\" font-family=\"Times New Roman,serif\" font-size=\"14.00\">value = [1, 3]</text>\r\n",
       "<text text-anchor=\"middle\" x=\"99.5\" y=\"-96.8\" font-family=\"Times New Roman,serif\" font-size=\"14.00\">class = yes</text>\r\n",
       "</g>\r\n",
       "<!-- 0&#45;&gt;1 -->\r\n",
       "<g id=\"edge1\" class=\"edge\"><title>0&#45;&gt;1</title>\r\n",
       "<path fill=\"none\" stroke=\"black\" d=\"M135.968,-192.884C131.488,-184.422 126.61,-175.207 121.921,-166.352\"/>\r\n",
       "<polygon fill=\"black\" stroke=\"black\" points=\"124.901,-164.5 117.129,-157.299 118.715,-167.775 124.901,-164.5\"/>\r\n",
       "<text text-anchor=\"middle\" x=\"109.777\" y=\"-177.494\" font-family=\"Times New Roman,serif\" font-size=\"14.00\">True</text>\r\n",
       "</g>\r\n",
       "<!-- 4 -->\r\n",
       "<g id=\"node5\" class=\"node\"><title>4</title>\r\n",
       "<polygon fill=\"#e58139\" stroke=\"black\" points=\"254,-149.5 163,-149.5 163,-96.5 254,-96.5 254,-149.5\"/>\r\n",
       "<text text-anchor=\"middle\" x=\"208.5\" y=\"-134.3\" font-family=\"Times New Roman,serif\" font-size=\"14.00\">samples = 1</text>\r\n",
       "<text text-anchor=\"middle\" x=\"208.5\" y=\"-119.3\" font-family=\"Times New Roman,serif\" font-size=\"14.00\">value = [1, 0]</text>\r\n",
       "<text text-anchor=\"middle\" x=\"208.5\" y=\"-104.3\" font-family=\"Times New Roman,serif\" font-size=\"14.00\">class = no</text>\r\n",
       "</g>\r\n",
       "<!-- 0&#45;&gt;4 -->\r\n",
       "<g id=\"edge4\" class=\"edge\"><title>0&#45;&gt;4</title>\r\n",
       "<path fill=\"none\" stroke=\"black\" d=\"M171.357,-192.884C177.287,-181.886 183.902,-169.617 189.888,-158.517\"/>\r\n",
       "<polygon fill=\"black\" stroke=\"black\" points=\"193.074,-159.983 194.739,-149.52 186.912,-156.661 193.074,-159.983\"/>\r\n",
       "<text text-anchor=\"middle\" x=\"201.909\" y=\"-169.77\" font-family=\"Times New Roman,serif\" font-size=\"14.00\">False</text>\r\n",
       "</g>\r\n",
       "<!-- 2 -->\r\n",
       "<g id=\"node3\" class=\"node\"><title>2</title>\r\n",
       "<polygon fill=\"#399de5\" stroke=\"black\" points=\"91,-53 0,-53 0,-0 91,-0 91,-53\"/>\r\n",
       "<text text-anchor=\"middle\" x=\"45.5\" y=\"-37.8\" font-family=\"Times New Roman,serif\" font-size=\"14.00\">samples = 3</text>\r\n",
       "<text text-anchor=\"middle\" x=\"45.5\" y=\"-22.8\" font-family=\"Times New Roman,serif\" font-size=\"14.00\">value = [0, 3]</text>\r\n",
       "<text text-anchor=\"middle\" x=\"45.5\" y=\"-7.8\" font-family=\"Times New Roman,serif\" font-size=\"14.00\">class = yes</text>\r\n",
       "</g>\r\n",
       "<!-- 1&#45;&gt;2 -->\r\n",
       "<g id=\"edge2\" class=\"edge\"><title>1&#45;&gt;2</title>\r\n",
       "<path fill=\"none\" stroke=\"black\" d=\"M80.6134,-88.9485C75.6474,-80.2579 70.2776,-70.8608 65.2667,-62.0917\"/>\r\n",
       "<polygon fill=\"black\" stroke=\"black\" points=\"68.207,-60.1826 60.2067,-53.2367 62.1293,-63.6557 68.207,-60.1826\"/>\r\n",
       "</g>\r\n",
       "<!-- 3 -->\r\n",
       "<g id=\"node4\" class=\"node\"><title>3</title>\r\n",
       "<polygon fill=\"#e58139\" stroke=\"black\" points=\"200,-53 109,-53 109,-0 200,-0 200,-53\"/>\r\n",
       "<text text-anchor=\"middle\" x=\"154.5\" y=\"-37.8\" font-family=\"Times New Roman,serif\" font-size=\"14.00\">samples = 1</text>\r\n",
       "<text text-anchor=\"middle\" x=\"154.5\" y=\"-22.8\" font-family=\"Times New Roman,serif\" font-size=\"14.00\">value = [1, 0]</text>\r\n",
       "<text text-anchor=\"middle\" x=\"154.5\" y=\"-7.8\" font-family=\"Times New Roman,serif\" font-size=\"14.00\">class = no</text>\r\n",
       "</g>\r\n",
       "<!-- 1&#45;&gt;3 -->\r\n",
       "<g id=\"edge3\" class=\"edge\"><title>1&#45;&gt;3</title>\r\n",
       "<path fill=\"none\" stroke=\"black\" d=\"M118.736,-88.9485C123.794,-80.2579 129.264,-70.8608 134.367,-62.0917\"/>\r\n",
       "<polygon fill=\"black\" stroke=\"black\" points=\"137.516,-63.6401 139.521,-53.2367 131.466,-60.1189 137.516,-63.6401\"/>\r\n",
       "</g>\r\n",
       "</g>\r\n",
       "</svg>\r\n"
      ],
      "text/plain": [
       "<graphviz.files.Source at 0x1de0df194a8>"
      ]
     },
     "metadata": {},
     "output_type": "display_data"
    }
   ],
   "source": [
    "from sklearn.tree import DecisionTreeClassifier\n",
    "from sklearn.tree import export_graphviz\n",
    "import graphviz\n",
    "\n",
    "df2 = df.copy()\n",
    "for col in df2:\n",
    "    for i, val in enumerate(set(df2[col])):\n",
    "        df2.loc[df2[col] == val, col] = i\n",
    "\n",
    "features = ['AirTemp','Forecast','Humidity','Sky','Water','Wind']\n",
    "X = np.array(df2[features], dtype=np.int)\n",
    "y = np.array(df2[['Date?']], dtype=np.int)\n",
    "\n",
    "dc = DecisionTreeClassifier(criterion='entropy');\n",
    "dc.fit(X, y);\n",
    "export_graphviz(dc, out_file=\"tree.dot\", class_names=[\"no\", \"yes\"], \n",
    "                feature_names=features, impurity=False, filled=True);\n",
    "\n",
    "with open(\"tree.dot\") as f:\n",
    "    dot_graph = f.read()\n",
    "display(graphviz.Source(dot_graph))"
   ]
  },
  {
   "cell_type": "code",
   "execution_count": 18,
   "metadata": {
    "collapsed": false
   },
   "outputs": [],
   "source": [
    "from sklearn import tree\n",
    "\n",
    "\n",
    "dataSet=[['sunny', 'warm', 'normal', 'strong', 'warm', 'same', 'yes'],\n",
    "       ['sunny', 'warm', 'high', 'strong', 'warm', 'same', 'yes'],\n",
    "       ['rainy', 'warm', 'high', 'strong', 'cool', 'change', 'no'],\n",
    "       ['sunny', 'cold', 'high', 'strong', 'warm', 'change', 'yes'],\n",
    "       ['sunny', 'warm', 'normal', 'weak', 'warm', 'same', 'no']] \n",
    "#Sky -> 0:sunny\n",
    "#AirTem -> 0:warm\n",
    "#Humidity -> 0:normal\n",
    "#Wind -> 0:strong\n",
    "#Water -> 0:warm\n",
    "#Forcast -> 0:same\n",
    "#Date -> 0:date\n",
    "\n",
    "#Create Dataset\n",
    "\n",
    "dataSet=[[0, 0, 0, 0, 0, 0, 'yes'],\n",
    "       [0, 0, 1, 0, 0, 0, 'yes'],\n",
    "       [1, 0, 1, 0, 1, 1, 'no'],\n",
    "       [0, 1, 1, 0, 0, 1, 'yes'],\n",
    "       [0, 0, 0, 1, 0, 0, 'no']]\n",
    "\n",
    "\n",
    "\n",
    "labels=['Sky', 'AirTemp', 'Humidity', 'Wind', 'Water', 'Forecast']\n"
   ]
  },
  {
   "cell_type": "code",
   "execution_count": 19,
   "metadata": {
    "collapsed": false
   },
   "outputs": [],
   "source": [
    "\n",
    "def Entropy(dataSet):\n",
    "\n",
    "    numEntries = len(dataSet)\n",
    "    labelCounts = {}\n",
    "    for featVec in dataSet:\n",
    "        currentLabel = featVec[-1]\n",
    "        if currentLabel not in labelCounts.keys():\n",
    "            labelCounts[currentLabel] = 0\n",
    "        #Counting the number of each values' appearance\n",
    "        labelCounts[currentLabel] += 1      \n",
    "    entropy = 0.0\n",
    "    for key in labelCounts:\n",
    "        prob = float(labelCounts[key])/numEntries\n",
    "        entropy -= prob * np.log2(prob)\n",
    "    return entropy\n"
   ]
  },
  {
   "cell_type": "code",
   "execution_count": 20,
   "metadata": {
    "collapsed": false
   },
   "outputs": [],
   "source": [
    "import operator\n",
    "import time\n",
    "\n",
    "\n",
    "# Split dataset for the given  features \n",
    "def splitDataSet(dataSet, axis, value):\n",
    "    retDataSet = []\n",
    "    for featVec in dataSet:\n",
    "        if featVec[axis] == value:\n",
    "            reducedFeatVec=np.append(featVec[:axis],featVec[axis+1:])\n",
    "            retDataSet.append(reducedFeatVec)\n",
    "    return retDataSet\n",
    "\n"
   ]
  },
  {
   "cell_type": "code",
   "execution_count": 21,
   "metadata": {
    "collapsed": false
   },
   "outputs": [],
   "source": [
    "def chooseBestFeatureToSplit(dataSet):\n",
    "    \n",
    "    #the number of features\n",
    "    numFeatures = len(dataSet[0]) - 1\n",
    "    #the entropy of all dataset\n",
    "    baseEntropy = Entropy(dataSet)\n",
    "    bestInfoGain = 0.0\n",
    "    bestFeature = -1\n",
    "    for i in range(numFeatures):\n",
    "        #Construct a list for each Feature\n",
    "        featList = [example[i] for example in dataSet]\n",
    "        #the set of unique values in the feature list\n",
    "        uniqueVals = set(featList)\n",
    "        newEntropy = 0.0\n",
    "        for value in uniqueVals:\n",
    "            subDataSet = splitDataSet(dataSet, i, value)\n",
    "            prob = len(subDataSet) / float(len(dataSet[0]))\n",
    "            newEntropy += prob * Entropy(subDataSet)\n",
    "        #the info Gain for this feature    \n",
    "        infoGain = baseEntropy -newEntropy\n",
    "        #Return Best Feature\n",
    "        if infoGain > bestInfoGain:\n",
    "            bestInfoGain = infoGain\n",
    "            bestFeature = i\n",
    "    return bestFeature\n",
    "\n",
    "\n",
    "def majorityCnt(classList):\n",
    "\n",
    "    classCount = {}\n",
    "    for vote in classList:\n",
    "        if vote not in classCount.keys():\n",
    "            classCount[vote] = 0\n",
    "        classCount[vote] += 1\n",
    "    sortedClassCount = sorted(classCount.iteritems(), key=operator.itemgetter(1), reversed=True)\n",
    "    return sortedClassCount[0][0]\n",
    "\n"
   ]
  },
  {
   "cell_type": "code",
   "execution_count": 22,
   "metadata": {
    "collapsed": false
   },
   "outputs": [
    {
     "name": "stdout",
     "output_type": "stream",
     "text": [
      "Tree : {'Sky': {0: {'Wind': {'0': 'yes', '1': 'no'}}, 1: 'no'}}\n"
     ]
    }
   ],
   "source": [
    "import treePlotter\n",
    "\n",
    "def createTree(dataSet, labels):\n",
    "\n",
    "    classList = [example[-1] for example in dataSet]         \n",
    "    if classList.count(classList[0]) == len(classList):\n",
    "        #if each element in classList are identicle, dont do classify\n",
    "        return classList[0]                                  \n",
    "    if len(dataSet[0]) == 1:                                  \n",
    "        # Return the most number of occurence\n",
    "        return majorityCnt(classList)\n",
    "    bestFeat = chooseBestFeatureToSplit(dataSet)                \n",
    "    bestFeatLabel = labels[bestFeat]                              \n",
    "    myTree = {bestFeatLabel:{}}                   \n",
    "        \n",
    "    del(labels[bestFeat])                                           \n",
    "    featValues = [example[bestFeat] for example in dataSet]       \n",
    "    uniqueVals = set(featValues)\n",
    "    for value in uniqueVals:\n",
    "        subLabels = labels[:]                                \n",
    "        myTree[bestFeatLabel][value] = createTree(splitDataSet(dataSet, bestFeat, value), subLabels)\n",
    "        \n",
    "    return myTree\n",
    "\n",
    "\n",
    "labels_tmp = labels[:]\n",
    "desicionTree = createTree(dataSet, labels_tmp)\n",
    "print(\"Tree : {}\".format(desicionTree))\n",
    "\n"
   ]
  },
  {
   "cell_type": "code",
   "execution_count": 23,
   "metadata": {
    "collapsed": false
   },
   "outputs": [
    {
     "data": {
      "application/pdf": "[encoded data removed]",
      "image/png": "[encoded data removed]",
      "text/plain": [
       "<matplotlib.figure.Figure at 0x1de0e43ec50>"
      ]
     },
     "metadata": {},
     "output_type": "display_data"
    }
   ],
   "source": [
    "desicionTree = createTree(dataSet, labels_tmp)\n",
    "treePlotter.createPlot(desicionTree)"
   ]
  },
  {
   "cell_type": "markdown",
   "metadata": {
    "collapsed": false
   },
   "source": [
    "Our decisionTree is {'Sky': {0: {'Wind': {'1': 'no', '0': 'yes'}}, 1: 'no'}} namely, {'Sky': {sunny: {'Wind': {'mild': 'no', 'strong': 'yes'}}, rainy: 'no'}}. Yet we don't have any clue about why the tree plotter didnt give the right result.\\\\\n",
    "However, the decision tree from DecisionTreeClassifier varies from time to time. For instance, the last output is  {'Sky': {True: {'Wind': {'True': 'yes', 'False': 'no'}}, False: 'no'}}. The variation for the output may due to the fact the DecisinTreeClassifier has to split the data randomly first, hence each time we may get different result.\n",
    "\n",
    "\n"
   ]
  },
  {
   "cell_type": "markdown",
   "metadata": {},
   "source": [
    "## Random Forests (4 points (1+1+2))\n",
    "Study the effect of the number of trees in a RandomForest on the EEG-eye-state dataset (http://www.openml.org/d/1471). This dataset measures brain activity using 15 sensors, and you need to predict whether the person's eyes are open or closed. \n",
    "\n",
    "* Train a RandomForest classifier on this dataset with an increasing number of trees (on a log scale as above). Plot the Out-Of-Bag error against the number of trees.\n",
    "    - The Out-Of-Bag error is the test error obtained when using bootstrapping, and using the non-drawn data points as the test set. This is what a RandomForest does internally, so you can retrieve it from the classifier. The code below hints on how to do this.\n",
    "* Construct the same plot, but now use 10-fold Cross-validation and error rate instead of the OOB error. Compare the two. What do you learn from this?\n",
    "* Compare the performance of the RandomForest ensemble with that of a single full decision tree. Compute the AUC as well as the bias and variance. Does the bias and variance increase/decrease for the ensemble? Does the number of trees affect the result?\n",
    "\n",
    "Hint: Error rate = 1 - accuracy  \n",
    "Hint: We discussed bias-variance decomposition in class. It is not included in scikit-learn, so you'll need to implement it yourself."
   ]
  },
  {
   "cell_type": "code",
   "execution_count": 6,
   "metadata": {
    "collapsed": true
   },
   "outputs": [],
   "source": [
    "eeg = oml.datasets.get_dataset(1471) # Download Ionosphere data\n",
    "X, y = eeg.get_data(target=eeg.default_target_attribute);"
   ]
  },
  {
   "cell_type": "code",
   "execution_count": 8,
   "metadata": {
    "collapsed": false
   },
   "outputs": [
    {
     "data": {
      "text/plain": [
       "(14980, 14)"
      ]
     },
     "execution_count": 8,
     "metadata": {},
     "output_type": "execute_result"
    },
    {
     "data": {
      "text/plain": [
       "(14980,)"
      ]
     },
     "execution_count": 8,
     "metadata": {},
     "output_type": "execute_result"
    }
   ],
   "source": [
    "X.shape\n",
    "y.shape"
   ]
  },
  {
   "cell_type": "code",
   "execution_count": 25,
   "metadata": {
    "collapsed": false
   },
   "outputs": [
    {
     "data": {
      "text/plain": [
       "RandomForestClassifier(bootstrap=True, class_weight=None, criterion='gini',\n",
       "            max_depth=None, max_features='auto', max_leaf_nodes=None,\n",
       "            min_impurity_split=1e-07, min_samples_leaf=1,\n",
       "            min_samples_split=2, min_weight_fraction_leaf=0.0,\n",
       "            n_estimators=1, n_jobs=-1, oob_score=True, random_state=None,\n",
       "            verbose=0, warm_start=False)"
      ]
     },
     "execution_count": 25,
     "metadata": {},
     "output_type": "execute_result"
    },
    {
     "data": {
      "text/plain": [
       "RandomForestClassifier(bootstrap=True, class_weight=None, criterion='gini',\n",
       "            max_depth=None, max_features='auto', max_leaf_nodes=None,\n",
       "            min_impurity_split=1e-07, min_samples_leaf=1,\n",
       "            min_samples_split=2, min_weight_fraction_leaf=0.0,\n",
       "            n_estimators=1, n_jobs=-1, oob_score=False, random_state=None,\n",
       "            verbose=0, warm_start=False)"
      ]
     },
     "execution_count": 25,
     "metadata": {},
     "output_type": "execute_result"
    },
    {
     "data": {
      "text/plain": [
       "RandomForestClassifier(bootstrap=True, class_weight=None, criterion='gini',\n",
       "            max_depth=None, max_features='auto', max_leaf_nodes=None,\n",
       "            min_impurity_split=1e-07, min_samples_leaf=1,\n",
       "            min_samples_split=2, min_weight_fraction_leaf=0.0,\n",
       "            n_estimators=2, n_jobs=-1, oob_score=True, random_state=None,\n",
       "            verbose=0, warm_start=False)"
      ]
     },
     "execution_count": 25,
     "metadata": {},
     "output_type": "execute_result"
    },
    {
     "data": {
      "text/plain": [
       "RandomForestClassifier(bootstrap=True, class_weight=None, criterion='gini',\n",
       "            max_depth=None, max_features='auto', max_leaf_nodes=None,\n",
       "            min_impurity_split=1e-07, min_samples_leaf=1,\n",
       "            min_samples_split=2, min_weight_fraction_leaf=0.0,\n",
       "            n_estimators=2, n_jobs=-1, oob_score=False, random_state=None,\n",
       "            verbose=0, warm_start=False)"
      ]
     },
     "execution_count": 25,
     "metadata": {},
     "output_type": "execute_result"
    },
    {
     "data": {
      "text/plain": [
       "RandomForestClassifier(bootstrap=True, class_weight=None, criterion='gini',\n",
       "            max_depth=None, max_features='auto', max_leaf_nodes=None,\n",
       "            min_impurity_split=1e-07, min_samples_leaf=1,\n",
       "            min_samples_split=2, min_weight_fraction_leaf=0.0,\n",
       "            n_estimators=4, n_jobs=-1, oob_score=True, random_state=None,\n",
       "            verbose=0, warm_start=False)"
      ]
     },
     "execution_count": 25,
     "metadata": {},
     "output_type": "execute_result"
    },
    {
     "data": {
      "text/plain": [
       "RandomForestClassifier(bootstrap=True, class_weight=None, criterion='gini',\n",
       "            max_depth=None, max_features='auto', max_leaf_nodes=None,\n",
       "            min_impurity_split=1e-07, min_samples_leaf=1,\n",
       "            min_samples_split=2, min_weight_fraction_leaf=0.0,\n",
       "            n_estimators=4, n_jobs=-1, oob_score=False, random_state=None,\n",
       "            verbose=0, warm_start=False)"
      ]
     },
     "execution_count": 25,
     "metadata": {},
     "output_type": "execute_result"
    },
    {
     "data": {
      "text/plain": [
       "RandomForestClassifier(bootstrap=True, class_weight=None, criterion='gini',\n",
       "            max_depth=None, max_features='auto', max_leaf_nodes=None,\n",
       "            min_impurity_split=1e-07, min_samples_leaf=1,\n",
       "            min_samples_split=2, min_weight_fraction_leaf=0.0,\n",
       "            n_estimators=8, n_jobs=-1, oob_score=True, random_state=None,\n",
       "            verbose=0, warm_start=False)"
      ]
     },
     "execution_count": 25,
     "metadata": {},
     "output_type": "execute_result"
    },
    {
     "data": {
      "text/plain": [
       "RandomForestClassifier(bootstrap=True, class_weight=None, criterion='gini',\n",
       "            max_depth=None, max_features='auto', max_leaf_nodes=None,\n",
       "            min_impurity_split=1e-07, min_samples_leaf=1,\n",
       "            min_samples_split=2, min_weight_fraction_leaf=0.0,\n",
       "            n_estimators=8, n_jobs=-1, oob_score=False, random_state=None,\n",
       "            verbose=0, warm_start=False)"
      ]
     },
     "execution_count": 25,
     "metadata": {},
     "output_type": "execute_result"
    },
    {
     "data": {
      "text/plain": [
       "RandomForestClassifier(bootstrap=True, class_weight=None, criterion='gini',\n",
       "            max_depth=None, max_features='auto', max_leaf_nodes=None,\n",
       "            min_impurity_split=1e-07, min_samples_leaf=1,\n",
       "            min_samples_split=2, min_weight_fraction_leaf=0.0,\n",
       "            n_estimators=16, n_jobs=-1, oob_score=True, random_state=None,\n",
       "            verbose=0, warm_start=False)"
      ]
     },
     "execution_count": 25,
     "metadata": {},
     "output_type": "execute_result"
    },
    {
     "data": {
      "text/plain": [
       "RandomForestClassifier(bootstrap=True, class_weight=None, criterion='gini',\n",
       "            max_depth=None, max_features='auto', max_leaf_nodes=None,\n",
       "            min_impurity_split=1e-07, min_samples_leaf=1,\n",
       "            min_samples_split=2, min_weight_fraction_leaf=0.0,\n",
       "            n_estimators=16, n_jobs=-1, oob_score=False, random_state=None,\n",
       "            verbose=0, warm_start=False)"
      ]
     },
     "execution_count": 25,
     "metadata": {},
     "output_type": "execute_result"
    },
    {
     "data": {
      "text/plain": [
       "RandomForestClassifier(bootstrap=True, class_weight=None, criterion='gini',\n",
       "            max_depth=None, max_features='auto', max_leaf_nodes=None,\n",
       "            min_impurity_split=1e-07, min_samples_leaf=1,\n",
       "            min_samples_split=2, min_weight_fraction_leaf=0.0,\n",
       "            n_estimators=32, n_jobs=-1, oob_score=True, random_state=None,\n",
       "            verbose=0, warm_start=False)"
      ]
     },
     "execution_count": 25,
     "metadata": {},
     "output_type": "execute_result"
    },
    {
     "data": {
      "text/plain": [
       "RandomForestClassifier(bootstrap=True, class_weight=None, criterion='gini',\n",
       "            max_depth=None, max_features='auto', max_leaf_nodes=None,\n",
       "            min_impurity_split=1e-07, min_samples_leaf=1,\n",
       "            min_samples_split=2, min_weight_fraction_leaf=0.0,\n",
       "            n_estimators=32, n_jobs=-1, oob_score=False, random_state=None,\n",
       "            verbose=0, warm_start=False)"
      ]
     },
     "execution_count": 25,
     "metadata": {},
     "output_type": "execute_result"
    },
    {
     "data": {
      "text/plain": [
       "RandomForestClassifier(bootstrap=True, class_weight=None, criterion='gini',\n",
       "            max_depth=None, max_features='auto', max_leaf_nodes=None,\n",
       "            min_impurity_split=1e-07, min_samples_leaf=1,\n",
       "            min_samples_split=2, min_weight_fraction_leaf=0.0,\n",
       "            n_estimators=64, n_jobs=-1, oob_score=True, random_state=None,\n",
       "            verbose=0, warm_start=False)"
      ]
     },
     "execution_count": 25,
     "metadata": {},
     "output_type": "execute_result"
    },
    {
     "data": {
      "text/plain": [
       "RandomForestClassifier(bootstrap=True, class_weight=None, criterion='gini',\n",
       "            max_depth=None, max_features='auto', max_leaf_nodes=None,\n",
       "            min_impurity_split=1e-07, min_samples_leaf=1,\n",
       "            min_samples_split=2, min_weight_fraction_leaf=0.0,\n",
       "            n_estimators=64, n_jobs=-1, oob_score=False, random_state=None,\n",
       "            verbose=0, warm_start=False)"
      ]
     },
     "execution_count": 25,
     "metadata": {},
     "output_type": "execute_result"
    },
    {
     "data": {
      "text/plain": [
       "RandomForestClassifier(bootstrap=True, class_weight=None, criterion='gini',\n",
       "            max_depth=None, max_features='auto', max_leaf_nodes=None,\n",
       "            min_impurity_split=1e-07, min_samples_leaf=1,\n",
       "            min_samples_split=2, min_weight_fraction_leaf=0.0,\n",
       "            n_estimators=128, n_jobs=-1, oob_score=True, random_state=None,\n",
       "            verbose=0, warm_start=False)"
      ]
     },
     "execution_count": 25,
     "metadata": {},
     "output_type": "execute_result"
    },
    {
     "data": {
      "text/plain": [
       "RandomForestClassifier(bootstrap=True, class_weight=None, criterion='gini',\n",
       "            max_depth=None, max_features='auto', max_leaf_nodes=None,\n",
       "            min_impurity_split=1e-07, min_samples_leaf=1,\n",
       "            min_samples_split=2, min_weight_fraction_leaf=0.0,\n",
       "            n_estimators=128, n_jobs=-1, oob_score=False,\n",
       "            random_state=None, verbose=0, warm_start=False)"
      ]
     },
     "execution_count": 25,
     "metadata": {},
     "output_type": "execute_result"
    },
    {
     "data": {
      "text/plain": [
       "RandomForestClassifier(bootstrap=True, class_weight=None, criterion='gini',\n",
       "            max_depth=None, max_features='auto', max_leaf_nodes=None,\n",
       "            min_impurity_split=1e-07, min_samples_leaf=1,\n",
       "            min_samples_split=2, min_weight_fraction_leaf=0.0,\n",
       "            n_estimators=256, n_jobs=-1, oob_score=True, random_state=None,\n",
       "            verbose=0, warm_start=False)"
      ]
     },
     "execution_count": 25,
     "metadata": {},
     "output_type": "execute_result"
    },
    {
     "data": {
      "text/plain": [
       "RandomForestClassifier(bootstrap=True, class_weight=None, criterion='gini',\n",
       "            max_depth=None, max_features='auto', max_leaf_nodes=None,\n",
       "            min_impurity_split=1e-07, min_samples_leaf=1,\n",
       "            min_samples_split=2, min_weight_fraction_leaf=0.0,\n",
       "            n_estimators=256, n_jobs=-1, oob_score=False,\n",
       "            random_state=None, verbose=0, warm_start=False)"
      ]
     },
     "execution_count": 25,
     "metadata": {},
     "output_type": "execute_result"
    },
    {
     "data": {
      "text/plain": [
       "RandomForestClassifier(bootstrap=True, class_weight=None, criterion='gini',\n",
       "            max_depth=None, max_features='auto', max_leaf_nodes=None,\n",
       "            min_impurity_split=1e-07, min_samples_leaf=1,\n",
       "            min_samples_split=2, min_weight_fraction_leaf=0.0,\n",
       "            n_estimators=512, n_jobs=-1, oob_score=True, random_state=None,\n",
       "            verbose=0, warm_start=False)"
      ]
     },
     "execution_count": 25,
     "metadata": {},
     "output_type": "execute_result"
    },
    {
     "data": {
      "text/plain": [
       "RandomForestClassifier(bootstrap=True, class_weight=None, criterion='gini',\n",
       "            max_depth=None, max_features='auto', max_leaf_nodes=None,\n",
       "            min_impurity_split=1e-07, min_samples_leaf=1,\n",
       "            min_samples_split=2, min_weight_fraction_leaf=0.0,\n",
       "            n_estimators=512, n_jobs=-1, oob_score=False,\n",
       "            random_state=None, verbose=0, warm_start=False)"
      ]
     },
     "execution_count": 25,
     "metadata": {},
     "output_type": "execute_result"
    },
    {
     "data": {
      "text/plain": [
       "[<matplotlib.lines.Line2D at 0x1de0e3d4a58>]"
      ]
     },
     "execution_count": 25,
     "metadata": {},
     "output_type": "execute_result"
    },
    {
     "data": {
      "text/plain": [
       "[<matplotlib.lines.Line2D at 0x1de0e44a4a8>]"
      ]
     },
     "execution_count": 25,
     "metadata": {},
     "output_type": "execute_result"
    },
    {
     "data": {
      "text/plain": [
       "<matplotlib.text.Text at 0x1de0e3f8550>"
      ]
     },
     "execution_count": 25,
     "metadata": {},
     "output_type": "execute_result"
    },
    {
     "data": {
      "application/pdf": "[encoded data removed]",
      "image/png": "[encoded data removed]",
      "text/plain": [
       "<matplotlib.figure.Figure at 0x1de0e44a438>"
      ]
     },
     "metadata": {},
     "output_type": "display_data"
    }
   ],
   "source": [
    "# Out of bag errors can be retrieved from the RandomForest classifier. You'll need to loop over the number of trees.\n",
    "# http://scikit-learn.org/stable/auto_examples/ensemble/plot_ensemble_oob.html\n",
    "from sklearn import ensemble\n",
    "\n",
    "oobscore=[]\n",
    "cvscore=[]\n",
    "biases, variances = [], []\n",
    "\n",
    "\n",
    "\n",
    "#Scale n_estimators\n",
    "n_range=[2**i for i in range(10)]\n",
    "\n",
    "\n",
    "for n_e in n_range:\n",
    "    clf = ensemble.RandomForestClassifier(n_estimators=n_e,n_jobs=-1,oob_score=True);\n",
    "    clf.fit(X,y);\n",
    "    results= 1 - clf.oob_score_\n",
    "    oobscore.append(results)\n",
    "    \n",
    "    clf = ensemble.RandomForestClassifier(n_estimators=n_e,n_jobs=-1);\n",
    "    clf.fit(X,y)\n",
    "    acc = cross_val_score(clf, X, y, cv=10, n_jobs=-1) \n",
    "    cvscore.append(1-np.mean(acc))\n",
    "    \n",
    "plt.plot(n_range, oobscore,label='OOBscore') \n",
    "plt.plot(n_range, cvscore,label='10CV score')\n",
    "plt.xlabel('Number of trees')\n",
    "_=plt.legend(loc='best')"
   ]
  },
  {
   "cell_type": "markdown",
   "metadata": {},
   "source": [
    "The figure shows the OOb estimator gives a better estimate of the test loss. As you can see, OOB error is much lower than 10-fold CV error. Also, OOb error rapidly decrease between interval [0,100], then keep steady trend relatively small. While, 10-fold error almost remain constant around 0.4 which is bigger than the maximum of OOB error. \\\\\n"
   ]
  },
  {
   "cell_type": "code",
   "execution_count": 26,
   "metadata": {
    "collapsed": false
   },
   "outputs": [],
   "source": [
    "\n",
    "\n",
    "\n",
    "def compute_bias_variance(estimator,X,y):\n",
    "    clf =estimator\n",
    "\n",
    "    # Bootstraps\n",
    "    n_repeat = 100\n",
    "    shuffle_split = ShuffleSplit(test_size=0.33, n_splits=n_repeat)\n",
    "\n",
    "    # Store sample predictions\n",
    "    y_all_pred = [[] for _ in range(len(y))]\n",
    "\n",
    "    # Train classifier on each bootstrap and score predictions\n",
    "    for i, (train_index, test_index) in enumerate(shuffle_split.split(X)):\n",
    "        # Train and predict\n",
    "        clf.fit(X[train_index], y[train_index])\n",
    "        y_pred = clf.predict(X[test_index])\n",
    "\n",
    "        # Store predictions\n",
    "        for i,index in enumerate(test_index):\n",
    "            y_all_pred[index].append(y_pred[i])\n",
    "        \n",
    "    # Compute bias, variance, error\n",
    "    bias_sq = sum([ (1 - x.count(y[i])/len(x))**2 * len(x)/n_repeat \n",
    "                for i,x in enumerate(y_all_pred)])\n",
    "    var = sum([((1 - ((x.count(0)/len(x))**2 + (x.count(1)/len(x))**2))/2) * len(x)/n_repeat\n",
    "           for i,x in enumerate(y_all_pred)])\n",
    "    error = sum([ (1 - x.count(y[i])/len(x)) * len(x)/n_repeat \n",
    "            for i,x in enumerate(y_all_pred)])\n",
    "\n",
    "    return bias_sq,var,error, print(\"Estimator: %s,Bias squared: %.2f, Variance: %.2f, Total error: %.2f\" % (estimator,bias_sq, var, error))"
   ]
  },
  {
   "cell_type": "code",
   "execution_count": 27,
   "metadata": {
    "collapsed": false
   },
   "outputs": [
    {
     "data": {
      "text/plain": [
       "RandomForestClassifier(bootstrap=True, class_weight=None, criterion='gini',\n",
       "            max_depth=None, max_features='auto', max_leaf_nodes=None,\n",
       "            min_impurity_split=1e-07, min_samples_leaf=1,\n",
       "            min_samples_split=2, min_weight_fraction_leaf=0.0,\n",
       "            n_estimators=20, n_jobs=-1, oob_score=False, random_state=None,\n",
       "            verbose=0, warm_start=False)"
      ]
     },
     "execution_count": 27,
     "metadata": {},
     "output_type": "execute_result"
    },
    {
     "name": "stdout",
     "output_type": "stream",
     "text": [
      "Estimator: RandomForestClassifier(bootstrap=True, class_weight=None, criterion='gini',\n",
      "            max_depth=None, max_features='auto', max_leaf_nodes=None,\n",
      "            min_impurity_split=1e-07, min_samples_leaf=1,\n",
      "            min_samples_split=2, min_weight_fraction_leaf=0.0,\n",
      "            n_estimators=20, n_jobs=-1, oob_score=False, random_state=None,\n",
      "            verbose=0, warm_start=False),Bias squared: 269.76, Variance: 190.25, Total error: 460.01\n"
     ]
    },
    {
     "data": {
      "text/plain": [
       "DecisionTreeClassifier(class_weight=None, criterion='gini', max_depth=None,\n",
       "            max_features=None, max_leaf_nodes=None,\n",
       "            min_impurity_split=1e-07, min_samples_leaf=1,\n",
       "            min_samples_split=2, min_weight_fraction_leaf=0.0,\n",
       "            presort=False, random_state=None, splitter='best')"
      ]
     },
     "execution_count": 27,
     "metadata": {},
     "output_type": "execute_result"
    },
    {
     "name": "stdout",
     "output_type": "stream",
     "text": [
      "Estimator: RandomForestClassifier(bootstrap=True, class_weight=None, criterion='gini',\n",
      "            max_depth=None, max_features='auto', max_leaf_nodes=None,\n",
      "            min_impurity_split=1e-07, min_samples_leaf=1,\n",
      "            min_samples_split=2, min_weight_fraction_leaf=0.0,\n",
      "            n_estimators=20, n_jobs=-1, oob_score=False, random_state=None,\n",
      "            verbose=0, warm_start=False),Bias squared: 267.79, Variance: 187.48, Total error: 455.27\n",
      "AUC for Random Forest: 0.997\n",
      "AUC for Decision Tree Classifier: 0.820\n"
     ]
    }
   ],
   "source": [
    "from sklearn.ensemble import RandomForestClassifier\n",
    "from sklearn.tree import DecisionTreeClassifier\n",
    "\n",
    "X_train, X_test, y_train, y_test = train_test_split( X, y, train_size=0.6, stratify=y)\n",
    "\n",
    "rf=RandomForestClassifier(n_estimators=20,n_jobs=-1)\n",
    "rf.fit(X_train,y_train)\n",
    "bias_rf,var_rf,_,_=compute_bias_variance(rf,X,y)\n",
    "\n",
    "# AUC Score for Random Forest\n",
    "rf_auc = roc_auc_score(y_test, rf.predict_proba(X_test)[:, 1])\n",
    "\n",
    "dt = DecisionTreeClassifier();\n",
    "dt.fit(X_train, y_train);\n",
    "bias_dt,var_dt, _, _ =compute_bias_variance(rf,X,y)\n",
    "# AUC Score for Decision Tree Classifier\n",
    "de_auc= roc_auc_score(y_test, dt.predict_proba(X_test)[:,1]);\n",
    "\n",
    "\n",
    "\n",
    "print(\"AUC for Random Forest: {:.3f}\".format(rf_auc))\n",
    "print(\"AUC for Decision Tree Classifier: {:.3f}\".format(de_auc))"
   ]
  },
  {
   "cell_type": "code",
   "execution_count": 28,
   "metadata": {
    "collapsed": false
   },
   "outputs": [
    {
     "name": "stdout",
     "output_type": "stream",
     "text": [
      "Estimator: RandomForestClassifier(bootstrap=True, class_weight=None, criterion='gini',\n",
      "            max_depth=None, max_features='auto', max_leaf_nodes=None,\n",
      "            min_impurity_split=1e-07, min_samples_leaf=1,\n",
      "            min_samples_split=2, min_weight_fraction_leaf=0.0,\n",
      "            n_estimators=1, n_jobs=-1, oob_score=False, random_state=None,\n",
      "            verbose=0, warm_start=False),Bias squared: 383.14, Variance: 687.88, Total error: 1071.02\n",
      "Estimator: RandomForestClassifier(bootstrap=True, class_weight=None, criterion='gini',\n",
      "            max_depth=None, max_features='auto', max_leaf_nodes=None,\n",
      "            min_impurity_split=1e-07, min_samples_leaf=1,\n",
      "            min_samples_split=2, min_weight_fraction_leaf=0.0,\n",
      "            n_estimators=2, n_jobs=-1, oob_score=False, random_state=None,\n",
      "            verbose=0, warm_start=False),Bias squared: 512.74, Variance: 515.02, Total error: 1027.76\n",
      "Estimator: RandomForestClassifier(bootstrap=True, class_weight=None, criterion='gini',\n",
      "            max_depth=None, max_features='auto', max_leaf_nodes=None,\n",
      "            min_impurity_split=1e-07, min_samples_leaf=1,\n",
      "            min_samples_split=2, min_weight_fraction_leaf=0.0,\n",
      "            n_estimators=4, n_jobs=-1, oob_score=False, random_state=None,\n",
      "            verbose=0, warm_start=False),Bias squared: 368.55, Variance: 403.86, Total error: 772.41\n",
      "Estimator: RandomForestClassifier(bootstrap=True, class_weight=None, criterion='gini',\n",
      "            max_depth=None, max_features='auto', max_leaf_nodes=None,\n",
      "            min_impurity_split=1e-07, min_samples_leaf=1,\n",
      "            min_samples_split=2, min_weight_fraction_leaf=0.0,\n",
      "            n_estimators=8, n_jobs=-1, oob_score=False, random_state=None,\n",
      "            verbose=0, warm_start=False),Bias squared: 297.47, Variance: 292.83, Total error: 590.30\n",
      "Estimator: RandomForestClassifier(bootstrap=True, class_weight=None, criterion='gini',\n",
      "            max_depth=None, max_features='auto', max_leaf_nodes=None,\n",
      "            min_impurity_split=1e-07, min_samples_leaf=1,\n",
      "            min_samples_split=2, min_weight_fraction_leaf=0.0,\n",
      "            n_estimators=16, n_jobs=-1, oob_score=False, random_state=None,\n",
      "            verbose=0, warm_start=False),Bias squared: 272.39, Variance: 209.35, Total error: 481.74\n",
      "Estimator: RandomForestClassifier(bootstrap=True, class_weight=None, criterion='gini',\n",
      "            max_depth=None, max_features='auto', max_leaf_nodes=None,\n",
      "            min_impurity_split=1e-07, min_samples_leaf=1,\n",
      "            min_samples_split=2, min_weight_fraction_leaf=0.0,\n",
      "            n_estimators=32, n_jobs=-1, oob_score=False, random_state=None,\n",
      "            verbose=0, warm_start=False),Bias squared: 265.92, Variance: 154.27, Total error: 420.19\n",
      "Estimator: RandomForestClassifier(bootstrap=True, class_weight=None, criterion='gini',\n",
      "            max_depth=None, max_features='auto', max_leaf_nodes=None,\n",
      "            min_impurity_split=1e-07, min_samples_leaf=1,\n",
      "            min_samples_split=2, min_weight_fraction_leaf=0.0,\n",
      "            n_estimators=64, n_jobs=-1, oob_score=False, random_state=None,\n",
      "            verbose=0, warm_start=False),Bias squared: 270.53, Variance: 118.89, Total error: 389.42\n",
      "Estimator: RandomForestClassifier(bootstrap=True, class_weight=None, criterion='gini',\n",
      "            max_depth=None, max_features='auto', max_leaf_nodes=None,\n",
      "            min_impurity_split=1e-07, min_samples_leaf=1,\n",
      "            min_samples_split=2, min_weight_fraction_leaf=0.0,\n",
      "            n_estimators=128, n_jobs=-1, oob_score=False,\n",
      "            random_state=None, verbose=0, warm_start=False),Bias squared: 277.82, Variance: 96.59, Total error: 374.41\n",
      "Estimator: RandomForestClassifier(bootstrap=True, class_weight=None, criterion='gini',\n",
      "            max_depth=None, max_features='auto', max_leaf_nodes=None,\n",
      "            min_impurity_split=1e-07, min_samples_leaf=1,\n",
      "            min_samples_split=2, min_weight_fraction_leaf=0.0,\n",
      "            n_estimators=256, n_jobs=-1, oob_score=False,\n",
      "            random_state=None, verbose=0, warm_start=False),Bias squared: 283.53, Variance: 83.47, Total error: 367.00\n",
      "Estimator: RandomForestClassifier(bootstrap=True, class_weight=None, criterion='gini',\n",
      "            max_depth=None, max_features='auto', max_leaf_nodes=None,\n",
      "            min_impurity_split=1e-07, min_samples_leaf=1,\n",
      "            min_samples_split=2, min_weight_fraction_leaf=0.0,\n",
      "            n_estimators=512, n_jobs=-1, oob_score=False,\n",
      "            random_state=None, verbose=0, warm_start=False),Bias squared: 283.41, Variance: 75.06, Total error: 358.47\n"
     ]
    },
    {
     "data": {
      "text/plain": [
       "[<matplotlib.lines.Line2D at 0x1de40fa39b0>]"
      ]
     },
     "execution_count": 28,
     "metadata": {},
     "output_type": "execute_result"
    },
    {
     "data": {
      "text/plain": [
       "[<matplotlib.lines.Line2D at 0x1de0e43ec88>]"
      ]
     },
     "execution_count": 28,
     "metadata": {},
     "output_type": "execute_result"
    },
    {
     "data": {
      "text/plain": [
       "<matplotlib.text.Text at 0x1de0e41cac8>"
      ]
     },
     "execution_count": 28,
     "metadata": {},
     "output_type": "execute_result"
    },
    {
     "data": {
      "text/plain": [
       "<function matplotlib.pyplot.show>"
      ]
     },
     "execution_count": 28,
     "metadata": {},
     "output_type": "execute_result"
    },
    {
     "data": {
      "application/pdf": "[encoded data removed]",
      "image/png": "[encoded data removed]",
      "text/plain": [
       "<matplotlib.figure.Figure at 0x1de0e43e860>"
      ]
     },
     "metadata": {},
     "output_type": "display_data"
    }
   ],
   "source": [
    "\n",
    "bias_all=[]\n",
    "var_all=[]\n",
    "error_all=[]\n",
    "rf_auc_all=[]\n",
    "n_range=[2**i for i in range(10)]\n",
    "for n_e in n_range:\n",
    "    bias_sq, var, error, _ =compute_bias_variance(RandomForestClassifier(n_estimators=n_e,n_jobs=-1),X,y)\n",
    "    bias_all.append(bias_sq)\n",
    "    var_all.append(var)\n",
    "    error_all.append(error)\n",
    "\n",
    "\n",
    "plt.plot(n_range, bias_all,label=\"bias\") \n",
    "plt.plot(n_range, var_all,label='variance')\n",
    "plt.xlabel('Number of trees')\n",
    "_=plt.legend()\n",
    "plt.show"
   ]
  },
  {
   "cell_type": "markdown",
   "metadata": {},
   "source": [
    "The figure shows that both bias and variance drop sharply around zero number of trees and remain steady afterwards. The number of trees don't infunce the bias and variance after a certain point."
   ]
  },
  {
   "cell_type": "markdown",
   "metadata": {},
   "source": [
    "## A regression benchmark (1 point)\n",
    "Consider the liver-disorder dataset (http://www.openml.org/d/8). The goal is to predict how much alcohol someone consumed based on blood test values.\n",
    "\n",
    "- Take a selection of the algorithms that we covered in class that can do regression.\n",
    "- Based on what you learned in the previous exercises, make educated guesses about good hyperparameter values and set up a grid or random search.\n",
    "- Evaluate all models with 10-fold cross-validation and root mean squared error (RMSE). Report all results. Which model yields the best results?"
   ]
  },
  {
   "cell_type": "code",
   "execution_count": 29,
   "metadata": {
    "collapsed": false
   },
   "outputs": [],
   "source": [
    "liver = oml.datasets.get_dataset(8) # Download Liver-disorders data\n",
    "X, y = liver.get_data(target=liver.default_target_attribute);"
   ]
  },
  {
   "cell_type": "code",
   "execution_count": 30,
   "metadata": {
    "collapsed": false
   },
   "outputs": [
    {
     "name": "stdout",
     "output_type": "stream",
     "text": [
      "scores of LinearRegression: mininum:6.115966526572714,maximum:1.5382970961753724\n",
      "scores of Lasso: mininum:1.2760359575169857,maximum:6.736056160109215\n",
      "scores of Ridge: mininum:1.5358927398411577,maximum:6.1201658896607185\n",
      "scores of RandomForestRegressor: mininum:1.6205631930841258,maximum:5.944674684496384\n",
      "scores of GradientBoostingRegressor: mininum:1.2514189603398047,maximum:6.1838772414096805\n",
      "scores of Lasso(): 12.338632534698924\n",
      "scores of Ridge(): 13.021211143534961\n",
      "scores of RandomForestRegressor: 13.862100753390353\n",
      "scores of GradientBoostingRegressor:13.076178643730355\n"
     ]
    },
    {
     "data": {
      "text/html": [
       "<div>\n",
       "<table border=\"1\" class=\"dataframe\">\n",
       "  <thead>\n",
       "    <tr style=\"text-align: right;\">\n",
       "      <th></th>\n",
       "      <th>Lasso</th>\n",
       "      <th>Ridge</th>\n",
       "      <th>RandomForestRegressor</th>\n",
       "      <th>GradientBoostingRegressor</th>\n",
       "    </tr>\n",
       "  </thead>\n",
       "  <tbody>\n",
       "    <tr>\n",
       "      <th>0</th>\n",
       "      <td>12.34</td>\n",
       "      <td>13.02</td>\n",
       "      <td>13.86</td>\n",
       "      <td>13.08</td>\n",
       "    </tr>\n",
       "  </tbody>\n",
       "</table>\n",
       "</div>"
      ],
      "text/plain": [
       "   Lasso  Ridge  RandomForestRegressor  GradientBoostingRegressor\n",
       "0  12.34  13.02                  13.86                      13.08"
      ]
     },
     "execution_count": 30,
     "metadata": {},
     "output_type": "execute_result"
    }
   ],
   "source": [
    "from sklearn.model_selection import cross_val_score\n",
    "from sklearn.model_selection import ShuffleSplit\n",
    "from sklearn.model_selection import train_test_split\n",
    "import random\n",
    "from sklearn.metrics import roc_auc_score\n",
    "from sklearn.model_selection import cross_val_score\n",
    "from sklearn.model_selection import RandomizedSearchCV\n",
    "from sklearn.ensemble import RandomForestClassifier,RandomForestRegressor,GradientBoostingRegressor\n",
    "from sklearn.linear_model import LogisticRegression\n",
    "from sklearn.linear_model import Ridge\n",
    "from sklearn.linear_model import LinearRegression,Lasso\n",
    "\n",
    "X_train, X_test, y_train, y_test = train_test_split(X, y, random_state=0)\n",
    "\n",
    "lr = LinearRegression().fit(X_train, y_train)\n",
    "scores = cross_val_score(lr, X, y,cv=10, scoring='neg_mean_squared_error');\n",
    "scores_min = np.sqrt(-scores.min())\n",
    "scores_max= np.sqrt(-scores.max())\n",
    "scores_mean=np.mean(-scores)\n",
    "print(\"scores of LinearRegression: mininum:{},maximum:{}\".format(scores_min,scores_max))\n",
    "\n",
    "param_grid = {\n",
    "    'n_estimators': [2**x for x in range(4, 9)],\n",
    "    'max_features': [1.0 / x for x in range(1, 11)],\n",
    "}\n",
    "\n",
    "def gridsearch(estimator, param_distributions):\n",
    "    \n",
    "    grid_search = RandomizedSearchCV(estimator, param_distributions\n",
    "                                       , n_iter=5,cv=10)\n",
    "    grid_search.fit(X, y)\n",
    "    model = grid_search.best_estimator_\n",
    "    scores = cross_val_score(model, X, y,\n",
    "                             cv=10, scoring='neg_mean_squared_error');\n",
    "    \n",
    "    scores_min = np.sqrt(-scores.max())\n",
    "    scores_max= np.sqrt(-scores.min())\n",
    "    \n",
    "    print(\"scores of {}: mininum:{},maximum:{}\".format(estimator.__class__.__name__,scores_min,scores_max))\n",
    "    \n",
    "    return -grid_search.best_score_\n",
    "\n",
    "scores_lasso = gridsearch(Lasso(), {'alpha': [2**x for x in range(-10, 11)]});\n",
    "\n",
    "scores_ridge = gridsearch(Ridge(), {'alpha': [2**x for x in range(-10, 11)]});\n",
    "\n",
    "\n",
    "from sklearn.linear_model import LogisticRegression, Lasso, Ridge\n",
    "from scipy.stats import distributions\n",
    "\n",
    "def randsearch(estimator, param_distributions):\n",
    "    \n",
    "    random_search = RandomizedSearchCV(estimator, param_distributions\n",
    "                                       , n_iter=5,cv=10)\n",
    "    random_search.fit(X, y)\n",
    "    model = random_search.best_estimator_\n",
    "    scores = cross_val_score(model, X, y,\n",
    "                             cv=10, scoring='neg_mean_squared_error');\n",
    "    \n",
    "    scores_min = np.sqrt(-scores.max())\n",
    "    scores_max= np.sqrt(-scores.min())\n",
    "    \n",
    "    print(\"scores of {}: mininum:{},maximum:{}\".format(estimator.__class__.__name__,scores_min,scores_max))\n",
    "    \n",
    "    return -random_search.best_score_\n",
    "\n",
    "scores_rfr = randsearch(RandomForestRegressor(), param_grid);\n",
    "\n",
    "scores_gbr = randsearch(GradientBoostingRegressor(), param_grid);\n",
    "\n",
    "\n",
    "\n",
    "print(\"scores of Lasso(): {}\".format(scores_lasso))\n",
    "print(\"scores of Ridge(): {}\".format(scores_ridge))\n",
    "print(\"scores of RandomForestRegressor: {}\".format(scores_rfr))\n",
    "print(\"scores of GradientBoostingRegressor:{}\".format(scores_gbr))\n",
    "\n",
    "\n",
    "labels=['Lasso','Ridge','RandomForestRegressor','GradientBoostingRegressor']\n",
    "data=[scores_lasso,scores_ridge,scores_rfr,scores_gbr]\n",
    "df=pd.DataFrame(data,index=labels)\n",
    "df.T\n"
   ]
  },
  {
   "cell_type": "markdown",
   "metadata": {},
   "source": [
    "These four regression method have smilar root mean square error. Lasso model yields the best results."
   ]
  }
 ],
 "metadata": {
  "anaconda-cloud": {},
  "kernelspec": {
   "display_name": "Python 3",
   "language": "python",
   "name": "python3"
  },
  "language_info": {
   "codemirror_mode": {
    "name": "ipython",
    "version": 3
   },
   "file_extension": ".py",
   "mimetype": "text/x-python",
   "name": "python",
   "nbconvert_exporter": "python",
   "pygments_lexer": "ipython3",
   "version": "3.6.0"
  }
 },
 "nbformat": 4,
 "nbformat_minor": 2
}
